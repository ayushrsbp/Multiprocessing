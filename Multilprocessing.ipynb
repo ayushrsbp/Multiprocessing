{
 "cells": [
  {
   "cell_type": "code",
   "execution_count": null,
   "id": "552804a8-305e-431a-9278-6d9e7c34b770",
   "metadata": {},
   "outputs": [],
   "source": [
    "# # Q1.\n",
    "# In Python, multiprocessing is a module that allows us to create and manage processes for parallel execution. It provides a way to utilize multiple CPU cores to speed up the execution of CPU-bound tasks.\n",
    "\n",
    "# Multiprocessing is useful for improving performance, taking advantage of multi-core systems, overcoming the GIL limitation, achieving true parallelism, and scaling our application to handle larger workloads. It is especially valuable for CPU-bound tasks that can be parallelized effectively."
   ]
  },
  {
   "cell_type": "code",
   "execution_count": null,
   "id": "0f46544b-5213-480d-b7e4-2945262b25dc",
   "metadata": {},
   "outputs": [],
   "source": [
    "# # Q2.\n",
    "#  * Multiprocessing:\n",
    "#         * In multiprocessing, multiple processes are created, each with its own interpreter instance. These processes run independently and can execute tasks in parallel on different CPU cores.\n",
    "#         * Multiprocessing allows for true parallelism, as each process runs on a separate CPU core and can execute tasks simultaneously.\n",
    "#         * Each process in multiprocessing has its own memory space.\n",
    "#         * Multiprocessing bypasses the global interpreter lock(GIL) limitation because each process has its own interpreter instance.\n",
    "#         * Creating and managing processes incurs additional overhead due to the need to create separate interpreter instances and manage inter-process communication.\n",
    "#         * It requires more memory compared to multithreading.\n",
    "#  * Mulithreading:\n",
    "#         * In multithreading, multiple threads are created within a single process. All threads share the same memory space and resources of the parent process.\n",
    "#         * Multithreading provides concurrency but not necessarily true parallelism.\n",
    "#         * All threads within a process share the same memory space. This allows for easy and efficient sharing of data between threads, as they can directly access and modify shared variables.\n",
    "#         * Multithreading does not overcome the GIL limitation. Only one thread can execute Python bytecode at a time, limiting the potential performance gains for CPU-bound tasks.\n",
    "#         * Creating and managing threads within a process is relatively lightweight compared to processes."
   ]
  },
  {
   "cell_type": "code",
   "execution_count": 1,
   "id": "d8a1cd19-7959-4e41-80ee-3c84837560e4",
   "metadata": {},
   "outputs": [
    {
     "name": "stdout",
     "output_type": "stream",
     "text": [
      "This is the test of multiprocessing\n"
     ]
    }
   ],
   "source": [
    "# Q3.\n",
    "import multiprocessing\n",
    "\n",
    "def test():\n",
    "    print(\"This is the test of multiprocessing\")\n",
    "    \n",
    "if __name__ == '__main__':\n",
    "    process = multiprocessing.Process(target=test)\n",
    "    process.start()\n",
    "    process.join()"
   ]
  },
  {
   "cell_type": "code",
   "execution_count": null,
   "id": "7d6d41be-d2df-4bb3-b08f-0b59ca056707",
   "metadata": {},
   "outputs": [],
   "source": [
    "# # Q4.\n",
    "# In Python's multiprocessing module, a multiprocessing Pool is a way to create a pool of worker processes that can execute tasks concurrently. The Pool class provides a high-level interface for parallel execution and simplifies the management of multiple processes.\n",
    "\n",
    "# Multiprocessing Pool is used to achieve parallel execution, maximize CPU utilization, improve performance, simplify parallelism, provide scalability, and enhance fault tolerance.\n",
    "\n",
    "# With a multiprocessing Pool, we can distribute tasks across the available processes in the pool, allowing for efficient parallel execution. The Pool automatically manages the creation, allocation, and reutilization of processes, abstracting away the details of process management."
   ]
  },
  {
   "cell_type": "code",
   "execution_count": 5,
   "id": "9bd7656e-fc48-4b7f-99d7-9b0ae105ff33",
   "metadata": {},
   "outputs": [
    {
     "name": "stdout",
     "output_type": "stream",
     "text": [
      "[16, 36, 4, 25, 81]\n"
     ]
    }
   ],
   "source": [
    "# # Q5.\n",
    "# To create a pool of worker processes in Python using the multiprocessing module, we can use the Pool class.\n",
    "\n",
    "import multiprocessing\n",
    "\n",
    "def worker(num):\n",
    "    return num**2\n",
    "\n",
    "if __name__ == '__main__':\n",
    "    l = [4,6,2,5,9]\n",
    "    pool = multiprocessing.Pool(processes = 4)\n",
    "    sqr = pool.map(worker,l)\n",
    "    pool.close()\n",
    "    pool.join()\n",
    "    print(sqr)\n",
    "    "
   ]
  },
  {
   "cell_type": "code",
   "execution_count": 6,
   "id": "fc958615-e79a-4eea-a153-d8b46acddb2c",
   "metadata": {},
   "outputs": [
    {
     "name": "stdout",
     "output_type": "stream",
     "text": [
      "This is the process 1\n",
      "This is the process 2\n",
      "This is the process 3\n",
      "This is the process 4\n"
     ]
    }
   ],
   "source": [
    "# Q6.\n",
    "import multiprocessing\n",
    "\n",
    "def print_number(number):\n",
    "    print(\"This is the process {}\".format(number))\n",
    "\n",
    "if __name__ == '__main__':\n",
    "    \n",
    "    process_numbers = [1, 2, 3, 4]\n",
    "    processes = []\n",
    "    \n",
    "    for number in process_numbers:\n",
    "        process = multiprocessing.Process(target=print_number, args=(number,))\n",
    "        processes.append(process)\n",
    "        process.start()\n",
    "\n",
    "    for process in processes:\n",
    "        process.join()"
   ]
  },
  {
   "cell_type": "code",
   "execution_count": null,
   "id": "f680fbd8-3e4a-49c5-85b3-1243e46228fe",
   "metadata": {},
   "outputs": [],
   "source": []
  }
 ],
 "metadata": {
  "kernelspec": {
   "display_name": "Python 3 (ipykernel)",
   "language": "python",
   "name": "python3"
  },
  "language_info": {
   "codemirror_mode": {
    "name": "ipython",
    "version": 3
   },
   "file_extension": ".py",
   "mimetype": "text/x-python",
   "name": "python",
   "nbconvert_exporter": "python",
   "pygments_lexer": "ipython3",
   "version": "3.10.8"
  }
 },
 "nbformat": 4,
 "nbformat_minor": 5
}
